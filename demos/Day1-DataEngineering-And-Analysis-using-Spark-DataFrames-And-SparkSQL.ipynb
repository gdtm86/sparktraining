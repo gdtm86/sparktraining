{
 "cells": [
  {
   "cell_type": "markdown",
   "metadata": {},
   "source": [
    "\n",
    "# ![Spark Logo](http://spark-mooc.github.io/web-assets/images/ta_Spark-logo-small.png) + ![Python Logo](http://spark-mooc.github.io/web-assets/images/python-logo-master-v3-TM-flattened_small.png)\n",
    "\n",
    "# Web Server Log Analysis with Spark SQL and DataFrames\n",
    " \n",
    " \n",
    "Server log analysis is an ideal use case for Spark.  It's a very large, common data source and contains a rich set of information.  Spark allows you to store your logs in files on disk cheaply, while still providing a quick and simple way to perform data analysis on them.  Log data comes from many sources, such as web, file, and compute servers, application logs, user-generated content,  and can be used for monitoring servers, improving business and customer intelligence, building recommendation systems, fraud detection, and much more."
   ]
  },
  {
   "cell_type": "markdown",
   "metadata": {},
   "source": [
    "### Load the logs data"
   ]
  },
  {
   "cell_type": "code",
   "execution_count": 1,
   "metadata": {
    "collapsed": false
   },
   "outputs": [
    {
     "data": {
      "text/plain": [
       "[u'in24.inetnebr.com - - [01/Aug/1995:00:00:01 -0400] \"GET /shuttle/missions/sts-68/news/sts-68-mcc-05.txt HTTP/1.0\" 200 1839',\n",
       " u'uplherc.upl.com - - [01/Aug/1995:00:00:07 -0400] \"GET / HTTP/1.0\" 304 0',\n",
       " u'uplherc.upl.com - - [01/Aug/1995:00:00:08 -0400] \"GET /images/ksclogo-medium.gif HTTP/1.0\" 304 0',\n",
       " u'uplherc.upl.com - - [01/Aug/1995:00:00:08 -0400] \"GET /images/MOSAIC-logosmall.gif HTTP/1.0\" 304 0',\n",
       " u'uplherc.upl.com - - [01/Aug/1995:00:00:08 -0400] \"GET /images/USA-logosmall.gif HTTP/1.0\" 304 0']"
      ]
     },
     "execution_count": 1,
     "metadata": {},
     "output_type": "execute_result"
    }
   ],
   "source": [
    "logsRDD = sc.textFile('hdfs:///user/gmedasani/data/exercises-data/apache.access.log')\n",
    "logsRDD.take(5)"
   ]
  },
  {
   "cell_type": "markdown",
   "metadata": {},
   "source": [
    "### Parse the logs using the below regex"
   ]
  },
  {
   "cell_type": "code",
   "execution_count": 2,
   "metadata": {
    "collapsed": true
   },
   "outputs": [],
   "source": [
    "APACHE_ACCESS_LOG_PATTERN = '^(\\S+) (\\S+) (\\S+) \\[([\\w:/]+\\s[+\\-]\\d{4})\\] \"(\\S+) (\\S+)\\s*(\\S*)\\s*\" (\\d{3}) (\\S+)'"
   ]
  },
  {
   "cell_type": "code",
   "execution_count": 3,
   "metadata": {
    "collapsed": true
   },
   "outputs": [],
   "source": [
    "import re\n",
    "import datetime\n",
    "from pyspark.sql import Row\n",
    "\n",
    "month_map = {'Jan': 1, 'Feb': 2, 'Mar':3, 'Apr':4, 'May':5, 'Jun':6, 'Jul':7,\n",
    "    'Aug':8,  'Sep': 9, 'Oct':10, 'Nov': 11, 'Dec': 12}\n",
    "\n",
    "def parse_apache_time(s):\n",
    "    \"\"\" Convert Apache time format into a Python datetime object\n",
    "    Args:\n",
    "        s (str): date and time in Apache time format\n",
    "    Returns:\n",
    "        datetime: datetime object (ignore timezone for now)\n",
    "    \"\"\"\n",
    "    return datetime.datetime(int(s[7:11]),\n",
    "                             month_map[s[3:6]],\n",
    "                             int(s[0:2]),\n",
    "                             int(s[12:14]),\n",
    "                             int(s[15:17]),\n",
    "                             int(s[18:20]))\n",
    "\n",
    "\n",
    "def parseApacheLogLine(logline):\n",
    "    \"\"\" Parse a line in the Apache Common Log format\n",
    "    Args:\n",
    "        logline (str): a line of text in the Apache Common Log format\n",
    "    Returns:\n",
    "        tuple: either a dictionary containing the parts of the Apache Access Log and 1,\n",
    "               or the original invalid log line and 0\n",
    "    \"\"\"\n",
    "    match = re.search(APACHE_ACCESS_LOG_PATTERN, logline)\n",
    "    if match is None:\n",
    "        return (logline,\"failed\",\"\",\"\",\"\",\"\",\"\",\"\",0)\n",
    "    size_field = match.group(9)\n",
    "    if size_field == '-':\n",
    "        size = long(0)\n",
    "    else:\n",
    "        size = long(match.group(9))\n",
    "    return (match.group(1),match.group(2),match.group(3),parse_apache_time(match.group(4)),match.group(5),match.group(6),\n",
    "        match.group(7),int(match.group(8)),size)"
   ]
  },
  {
   "cell_type": "code",
   "execution_count": 4,
   "metadata": {
    "collapsed": false
   },
   "outputs": [],
   "source": [
    "parsedLogsRDD = logsRDD.map(parseApacheLogLine).cache()"
   ]
  },
  {
   "cell_type": "code",
   "execution_count": 5,
   "metadata": {
    "collapsed": false
   },
   "outputs": [],
   "source": [
    "accessLogsRDD = (parsedLogsRDD.filter(lambda s: s[1] != 'failed')\n",
    "                .filter(lambda s: s[0])\n",
    "                .cache())\n",
    "accessLogsCount = accessLogsRDD.count()"
   ]
  },
  {
   "cell_type": "code",
   "execution_count": 6,
   "metadata": {
    "collapsed": false
   },
   "outputs": [
    {
     "name": "stdout",
     "output_type": "stream",
     "text": [
      "1043177\n"
     ]
    }
   ],
   "source": [
    "print accessLogsCount"
   ]
  },
  {
   "cell_type": "code",
   "execution_count": 7,
   "metadata": {
    "collapsed": false
   },
   "outputs": [
    {
     "data": {
      "text/plain": [
       "[(u'in24.inetnebr.com',\n",
       "  u'-',\n",
       "  u'-',\n",
       "  datetime.datetime(1995, 8, 1, 0, 0, 1),\n",
       "  u'GET',\n",
       "  u'/shuttle/missions/sts-68/news/sts-68-mcc-05.txt',\n",
       "  u'HTTP/1.0',\n",
       "  200,\n",
       "  1839L),\n",
       " (u'uplherc.upl.com',\n",
       "  u'-',\n",
       "  u'-',\n",
       "  datetime.datetime(1995, 8, 1, 0, 0, 7),\n",
       "  u'GET',\n",
       "  u'/',\n",
       "  u'HTTP/1.0',\n",
       "  304,\n",
       "  0L),\n",
       " (u'uplherc.upl.com',\n",
       "  u'-',\n",
       "  u'-',\n",
       "  datetime.datetime(1995, 8, 1, 0, 0, 8),\n",
       "  u'GET',\n",
       "  u'/images/ksclogo-medium.gif',\n",
       "  u'HTTP/1.0',\n",
       "  304,\n",
       "  0L),\n",
       " (u'uplherc.upl.com',\n",
       "  u'-',\n",
       "  u'-',\n",
       "  datetime.datetime(1995, 8, 1, 0, 0, 8),\n",
       "  u'GET',\n",
       "  u'/images/MOSAIC-logosmall.gif',\n",
       "  u'HTTP/1.0',\n",
       "  304,\n",
       "  0L)]"
      ]
     },
     "execution_count": 7,
     "metadata": {},
     "output_type": "execute_result"
    }
   ],
   "source": [
    "accessLogsRDD.take(4)"
   ]
  },
  {
   "cell_type": "code",
   "execution_count": 8,
   "metadata": {
    "collapsed": false
   },
   "outputs": [
    {
     "data": {
      "text/plain": [
       "'\\n(   host          = match.group(1),\\n        client_identd = match.group(2),\\n        user_id       = match.group(3),\\n        date_time     = parse_apache_time(match.group(4)),\\n        method        = match.group(5),\\n        endpoint      = match.group(6),\\n        protocol      = match.group(7),\\n        response_code = int(match.group(8)),\\n        content_size  = size)\\n'"
      ]
     },
     "execution_count": 8,
     "metadata": {},
     "output_type": "execute_result"
    }
   ],
   "source": [
    "'''\n",
    "(   host          = match.group(1),\n",
    "        client_identd = match.group(2),\n",
    "        user_id       = match.group(3),\n",
    "        date_time     = parse_apache_time(match.group(4)),\n",
    "        method        = match.group(5),\n",
    "        endpoint      = match.group(6),\n",
    "        protocol      = match.group(7),\n",
    "        response_code = int(match.group(8)),\n",
    "        content_size  = size)\n",
    "'''"
   ]
  },
  {
   "cell_type": "markdown",
   "metadata": {},
   "source": [
    "## Create a Spark DataFrame from access logs RDD"
   ]
  },
  {
   "cell_type": "code",
   "execution_count": 8,
   "metadata": {
    "collapsed": true
   },
   "outputs": [],
   "source": [
    "from pyspark.sql import SQLContext, Row"
   ]
  },
  {
   "cell_type": "code",
   "execution_count": 9,
   "metadata": {
    "collapsed": false
   },
   "outputs": [
    {
     "name": "stdout",
     "output_type": "stream",
     "text": [
      "<pyspark.sql.context.HiveContext object at 0x7f214b3a4690>\n"
     ]
    }
   ],
   "source": [
    "print sqlContext"
   ]
  },
  {
   "cell_type": "markdown",
   "metadata": {},
   "source": [
    "Spark SQL can convert an RDD of Row objects to a DataFrame, inferring the datatypes. Rows are constructed by passing a list of key/value pairs as kwargs to the Row class. The keys of this list define the column names of the table, and the types are inferred by looking at the first row. Since we currently only look at the first row, it is important that there is no missing data in the first row of the RDD. "
   ]
  },
  {
   "cell_type": "markdown",
   "metadata": {},
   "source": [
    "### Create an RDD with Row objects"
   ]
  },
  {
   "cell_type": "code",
   "execution_count": 10,
   "metadata": {
    "collapsed": false
   },
   "outputs": [],
   "source": [
    "accessLogsRowRDD = accessLogsRDD.map(lambda p: Row(host=p[0], \n",
    "                                                  client_identd=p[1],\n",
    "                                                  user_id=p[2],\n",
    "                                                  date_time=p[3],\n",
    "                                                  method=p[4],\n",
    "                                                  endpoint=p[5],\n",
    "                                                  protocol=p[6],\n",
    "                                                  response_code=int(p[7]),\n",
    "                                                  content_size=long(p[8])))"
   ]
  },
  {
   "cell_type": "code",
   "execution_count": 11,
   "metadata": {
    "collapsed": false
   },
   "outputs": [
    {
     "data": {
      "text/plain": [
       "1043177"
      ]
     },
     "execution_count": 11,
     "metadata": {},
     "output_type": "execute_result"
    }
   ],
   "source": [
    "accessLogsRowRDD.count()"
   ]
  },
  {
   "cell_type": "code",
   "execution_count": 12,
   "metadata": {
    "collapsed": false
   },
   "outputs": [
    {
     "data": {
      "text/plain": [
       "[Row(client_identd=u'-', content_size=1839L, date_time=datetime.datetime(1995, 8, 1, 0, 0, 1), endpoint=u'/shuttle/missions/sts-68/news/sts-68-mcc-05.txt', host=u'in24.inetnebr.com', method=u'GET', protocol=u'HTTP/1.0', response_code=200, user_id=u'-'),\n",
       " Row(client_identd=u'-', content_size=0L, date_time=datetime.datetime(1995, 8, 1, 0, 0, 7), endpoint=u'/', host=u'uplherc.upl.com', method=u'GET', protocol=u'HTTP/1.0', response_code=304, user_id=u'-'),\n",
       " Row(client_identd=u'-', content_size=0L, date_time=datetime.datetime(1995, 8, 1, 0, 0, 8), endpoint=u'/images/ksclogo-medium.gif', host=u'uplherc.upl.com', method=u'GET', protocol=u'HTTP/1.0', response_code=304, user_id=u'-'),\n",
       " Row(client_identd=u'-', content_size=0L, date_time=datetime.datetime(1995, 8, 1, 0, 0, 8), endpoint=u'/images/MOSAIC-logosmall.gif', host=u'uplherc.upl.com', method=u'GET', protocol=u'HTTP/1.0', response_code=304, user_id=u'-')]"
      ]
     },
     "execution_count": 12,
     "metadata": {},
     "output_type": "execute_result"
    }
   ],
   "source": [
    "accessLogsRowRDD.take(4)"
   ]
  },
  {
   "cell_type": "markdown",
   "metadata": {},
   "source": [
    "### Infer the schema, and register the DataFrame as a table."
   ]
  },
  {
   "cell_type": "code",
   "execution_count": 13,
   "metadata": {
    "collapsed": true
   },
   "outputs": [],
   "source": [
    "accessLogsDF = sqlContext.createDataFrame(accessLogsRowRDD)"
   ]
  },
  {
   "cell_type": "code",
   "execution_count": 14,
   "metadata": {
    "collapsed": false
   },
   "outputs": [
    {
     "data": {
      "text/plain": [
       "DataFrame[client_identd: string, content_size: bigint, date_time: timestamp, endpoint: string, host: string, method: string, protocol: string, response_code: bigint, user_id: string]"
      ]
     },
     "execution_count": 14,
     "metadata": {},
     "output_type": "execute_result"
    }
   ],
   "source": [
    "accessLogsDF"
   ]
  },
  {
   "cell_type": "code",
   "execution_count": 19,
   "metadata": {
    "collapsed": false
   },
   "outputs": [
    {
     "data": {
      "text/plain": [
       "[Row(client_identd=u'-', content_size=1839, date_time=datetime.datetime(1995, 8, 1, 0, 0, 1), endpoint=u'/shuttle/missions/sts-68/news/sts-68-mcc-05.txt', host=u'in24.inetnebr.com', method=u'GET', protocol=u'HTTP/1.0', response_code=200, user_id=u'-'),\n",
       " Row(client_identd=u'-', content_size=0, date_time=datetime.datetime(1995, 8, 1, 0, 0, 7), endpoint=u'/', host=u'uplherc.upl.com', method=u'GET', protocol=u'HTTP/1.0', response_code=304, user_id=u'-'),\n",
       " Row(client_identd=u'-', content_size=0, date_time=datetime.datetime(1995, 8, 1, 0, 0, 8), endpoint=u'/images/ksclogo-medium.gif', host=u'uplherc.upl.com', method=u'GET', protocol=u'HTTP/1.0', response_code=304, user_id=u'-'),\n",
       " Row(client_identd=u'-', content_size=0, date_time=datetime.datetime(1995, 8, 1, 0, 0, 8), endpoint=u'/images/MOSAIC-logosmall.gif', host=u'uplherc.upl.com', method=u'GET', protocol=u'HTTP/1.0', response_code=304, user_id=u'-')]"
      ]
     },
     "execution_count": 19,
     "metadata": {},
     "output_type": "execute_result"
    }
   ],
   "source": [
    "accessLogsDF.cache()\n",
    "accessLogsDF.head(4)"
   ]
  },
  {
   "cell_type": "markdown",
   "metadata": {},
   "source": [
    "### Data Frame Operations"
   ]
  },
  {
   "cell_type": "code",
   "execution_count": 15,
   "metadata": {
    "collapsed": false
   },
   "outputs": [
    {
     "data": {
      "text/plain": [
       "Row(client_identd=u'-', content_size=1839, date_time=datetime.datetime(1995, 8, 1, 0, 0, 1), endpoint=u'/shuttle/missions/sts-68/news/sts-68-mcc-05.txt', host=u'in24.inetnebr.com', method=u'GET', protocol=u'HTTP/1.0', response_code=200, user_id=u'-')"
      ]
     },
     "execution_count": 15,
     "metadata": {},
     "output_type": "execute_result"
    }
   ],
   "source": [
    "accessLogsDF.first()"
   ]
  },
  {
   "cell_type": "code",
   "execution_count": 16,
   "metadata": {
    "collapsed": false
   },
   "outputs": [
    {
     "data": {
      "text/plain": [
       "['client_identd',\n",
       " 'content_size',\n",
       " 'date_time',\n",
       " 'endpoint',\n",
       " 'host',\n",
       " 'method',\n",
       " 'protocol',\n",
       " 'response_code',\n",
       " 'user_id']"
      ]
     },
     "execution_count": 16,
     "metadata": {},
     "output_type": "execute_result"
    }
   ],
   "source": [
    "accessLogsDF.columns"
   ]
  },
  {
   "cell_type": "code",
   "execution_count": 17,
   "metadata": {
    "collapsed": false
   },
   "outputs": [
    {
     "data": {
      "text/plain": [
       "[('client_identd', 'string'),\n",
       " ('content_size', 'bigint'),\n",
       " ('date_time', 'timestamp'),\n",
       " ('endpoint', 'string'),\n",
       " ('host', 'string'),\n",
       " ('method', 'string'),\n",
       " ('protocol', 'string'),\n",
       " ('response_code', 'bigint'),\n",
       " ('user_id', 'string')]"
      ]
     },
     "execution_count": 17,
     "metadata": {},
     "output_type": "execute_result"
    }
   ],
   "source": [
    "accessLogsDF.dtypes"
   ]
  },
  {
   "cell_type": "markdown",
   "metadata": {},
   "source": [
    "#### Computes statistics for numeric columns."
   ]
  },
  {
   "cell_type": "code",
   "execution_count": 23,
   "metadata": {
    "collapsed": false
   },
   "outputs": [
    {
     "data": {
      "text/plain": [
       "1043177"
      ]
     },
     "execution_count": 23,
     "metadata": {},
     "output_type": "execute_result"
    }
   ],
   "source": [
    "accessLogsDF.count()"
   ]
  },
  {
   "cell_type": "markdown",
   "metadata": {},
   "source": [
    "## Sample Analysis\n",
    "\n",
    "### Content Size statistics on the Web Server Log File"
   ]
  },
  {
   "cell_type": "code",
   "execution_count": 18,
   "metadata": {
    "collapsed": false
   },
   "outputs": [
    {
     "data": {
      "text/plain": [
       "DataFrame[summary: string, content_size: string, response_code: string]"
      ]
     },
     "execution_count": 18,
     "metadata": {},
     "output_type": "execute_result"
    }
   ],
   "source": [
    "accessLogsDF.describe()"
   ]
  },
  {
   "cell_type": "code",
   "execution_count": 19,
   "metadata": {
    "collapsed": false
   },
   "outputs": [
    {
     "name": "stdout",
     "output_type": "stream",
     "text": [
      "+-------+------------------+------------------+\n",
      "|summary|      content_size|     response_code|\n",
      "+-------+------------------+------------------+\n",
      "|  count|           1043177|           1043177|\n",
      "|   mean|17531.555702435926|210.77268287165074|\n",
      "| stddev| 68561.96620052254|  33.5302820205224|\n",
      "|    min|                 0|               200|\n",
      "|    max|           3421948|               501|\n",
      "+-------+------------------+------------------+\n",
      "\n"
     ]
    }
   ],
   "source": [
    "accessLogsDF.describe().show()"
   ]
  },
  {
   "cell_type": "markdown",
   "metadata": {},
   "source": [
    "### Response Code Analysis"
   ]
  },
  {
   "cell_type": "code",
   "execution_count": 20,
   "metadata": {
    "collapsed": false
   },
   "outputs": [
    {
     "data": {
      "text/plain": [
       "DataFrame[response_code: bigint, count: bigint]"
      ]
     },
     "execution_count": 20,
     "metadata": {},
     "output_type": "execute_result"
    }
   ],
   "source": [
    "responseCodeCountDF = accessLogsDF.groupBy('response_code').count()\n",
    "responseCodeCountDF"
   ]
  },
  {
   "cell_type": "code",
   "execution_count": 21,
   "metadata": {
    "collapsed": false
   },
   "outputs": [
    {
     "data": {
      "text/plain": [
       "['response_code', 'response_count']"
      ]
     },
     "execution_count": 21,
     "metadata": {},
     "output_type": "execute_result"
    }
   ],
   "source": [
    "responseCodeCountDF = responseCodeCountDF.withColumnRenamed('count','response_count')\n",
    "responseCodeCountDF.columns"
   ]
  },
  {
   "cell_type": "code",
   "execution_count": 24,
   "metadata": {
    "collapsed": false
   },
   "outputs": [
    {
     "data": {
      "text/plain": [
       "[Row(response_code=200, response_count=940847),\n",
       " Row(response_code=304, response_count=79824),\n",
       " Row(response_code=302, response_count=16244),\n",
       " Row(response_code=404, response_count=6185),\n",
       " Row(response_code=403, response_count=58),\n",
       " Row(response_code=501, response_count=17),\n",
       " Row(response_code=500, response_count=2)]"
      ]
     },
     "execution_count": 24,
     "metadata": {},
     "output_type": "execute_result"
    }
   ],
   "source": [
    "responseCodeCountDF.sort('count', ascending=False).collect()"
   ]
  },
  {
   "cell_type": "markdown",
   "metadata": {},
   "source": [
    "### Response Code Graphing with matplotlib"
   ]
  },
  {
   "cell_type": "code",
   "execution_count": 25,
   "metadata": {
    "collapsed": false
   },
   "outputs": [
    {
     "name": "stdout",
     "output_type": "stream",
     "text": [
      "1043177\n"
     ]
    }
   ],
   "source": [
    "totalNumberOfResponseCodes = responseCodeCountDF.select('response_count').groupBy().sum('response_count').collect()[0].asDict().values()[0]\n",
    "print totalNumberOfResponseCodes"
   ]
  },
  {
   "cell_type": "code",
   "execution_count": 26,
   "metadata": {
    "collapsed": false
   },
   "outputs": [],
   "source": [
    "responseCodePercentRDD = responseCodeCountDF.map(lambda row: Row(response_code=row.response_code,\n",
    "                                        response_code_pct= row.response_count/float(totalNumberOfResponseCodes)))\n",
    "responseCodePercentDF = sqlContext.createDataFrame(responseCodePercentRDD)"
   ]
  },
  {
   "cell_type": "code",
   "execution_count": 27,
   "metadata": {
    "collapsed": false
   },
   "outputs": [
    {
     "data": {
      "text/plain": [
       "[Row(response_code=500, response_code_pct=1.9172201841106543e-06),\n",
       " Row(response_code=501, response_code_pct=1.629637156494056e-05),\n",
       " Row(response_code=302, response_code_pct=0.015571662335346735),\n",
       " Row(response_code=304, response_code_pct=0.07652009198822443),\n",
       " Row(response_code=200, response_code_pct=0.9019054292799784),\n",
       " Row(response_code=403, response_code_pct=5.5599385339208974e-05),\n",
       " Row(response_code=404, response_code_pct=0.005929003419362198)]"
      ]
     },
     "execution_count": 27,
     "metadata": {},
     "output_type": "execute_result"
    }
   ],
   "source": [
    "responseCodePercentDF.collect()"
   ]
  },
  {
   "cell_type": "code",
   "execution_count": 28,
   "metadata": {
    "collapsed": false
   },
   "outputs": [
    {
     "name": "stderr",
     "output_type": "stream",
     "text": [
      "/opt/cloudera/parcels/Anaconda-2.5.0/lib/python2.7/site-packages/ipykernel/__main__.py:1: FutureWarning: sort(columns=....) is deprecated, use sort_values(by=.....)\n",
      "  if __name__ == '__main__':\n"
     ]
    }
   ],
   "source": [
    "responseCodePercentDFLocal = responseCodePercentDF.toPandas().sort('response_code_pct', ascending=False)"
   ]
  },
  {
   "cell_type": "code",
   "execution_count": 29,
   "metadata": {
    "collapsed": false
   },
   "outputs": [
    {
     "data": {
      "image/png": "[encoded data removed]",
      "text/plain": [
       "<matplotlib.figure.Figure at 0x7f214b236fd0>"
      ]
     },
     "metadata": {},
     "output_type": "display_data"
    }
   ],
   "source": [
    "%matplotlib inline\n",
    "\n",
    "import matplotlib.pyplot as plt\n",
    "\n",
    "def pie_pct_format(value):\n",
    "    \"\"\" Determine the appropriate format string for the pie chart percentage label\n",
    "    Args:\n",
    "        value: value of the pie slice\n",
    "    Returns:\n",
    "        str: formated string label; if the slice is too small to fit, returns an empty string for label\n",
    "    \"\"\"\n",
    "    return '' if value < 7 else '%.0f%%' % value\n",
    "\n",
    "fig = plt.figure(figsize=(4.5, 4.5), facecolor='white', edgecolor='white')\n",
    "colors = ['yellowgreen', 'lightskyblue', 'gold', 'purple', 'lightcoral', 'yellow', 'black']\n",
    "explode = (0.05, 0.05, 0.1, 0, 0, 0, 0)\n",
    "patches, texts, autotexts = plt.pie(responseCodePercentDFLocal.response_code_pct, \n",
    "                                    labels=responseCodePercentDFLocal.response_code\n",
    "                                    ,colors=colors,\n",
    "                                    explode=explode, autopct=pie_pct_format,\n",
    "                                    shadow=False,  startangle=125)\n",
    "for text, autotext in zip(texts, autotexts):\n",
    "    if autotext.get_text() == '':\n",
    "        text.set_text('')  # If the slice is small to fit, don't show a text label\n",
    "plt.legend(responseCodePercentDFLocal.response_code, loc=(0.80, -0.1), shadow=True)\n",
    "pass"
   ]
  },
  {
   "cell_type": "markdown",
   "metadata": {},
   "source": [
    "### Frequent Hosts"
   ]
  },
  {
   "cell_type": "code",
   "execution_count": 30,
   "metadata": {
    "collapsed": false
   },
   "outputs": [
    {
     "data": {
      "text/plain": [
       "DataFrame[host: string, count: bigint]"
      ]
     },
     "execution_count": 30,
     "metadata": {},
     "output_type": "execute_result"
    }
   ],
   "source": [
    "hostCountDF = accessLogsDF.groupBy('host').count()\n",
    "hostCountDF"
   ]
  },
  {
   "cell_type": "code",
   "execution_count": 31,
   "metadata": {
    "collapsed": false
   },
   "outputs": [
    {
     "data": {
      "text/plain": [
       "['host', 'host_count']"
      ]
     },
     "execution_count": 31,
     "metadata": {},
     "output_type": "execute_result"
    }
   ],
   "source": [
    "hostCountDF = hostCountDF.withColumnRenamed('count','host_count')\n",
    "hostCountDF.columns"
   ]
  },
  {
   "cell_type": "code",
   "execution_count": 32,
   "metadata": {
    "collapsed": false
   },
   "outputs": [
    {
     "data": {
      "text/plain": [
       "25558"
      ]
     },
     "execution_count": 32,
     "metadata": {},
     "output_type": "execute_result"
    }
   ],
   "source": [
    "hostCountDFMoreThan10 = hostCountDF.filter('host_count >= 10')\n",
    "hostCountDFMoreThan10.count()"
   ]
  },
  {
   "cell_type": "code",
   "execution_count": 33,
   "metadata": {
    "collapsed": false
   },
   "outputs": [
    {
     "data": {
      "text/plain": [
       "[Row(host=u'edams.ksc.nasa.gov', host_count=4034),\n",
       " Row(host=u'piweba5y.prodigy.com', host_count=3237),\n",
       " Row(host=u'piweba4y.prodigy.com', host_count=3043),\n",
       " Row(host=u'piweba3y.prodigy.com', host_count=2830),\n",
       " Row(host=u'www-d1.proxy.aol.com', host_count=2715),\n",
       " Row(host=u'www-b3.proxy.aol.com', host_count=2518),\n",
       " Row(host=u'news.ti.com', host_count=2507),\n",
       " Row(host=u'www-b2.proxy.aol.com', host_count=2481),\n",
       " Row(host=u'163.206.89.4', host_count=2478),\n",
       " Row(host=u'www-c2.proxy.aol.com', host_count=2438),\n",
       " Row(host=u'www-c3.proxy.aol.com', host_count=2400),\n",
       " Row(host=u'www-d2.proxy.aol.com', host_count=2371),\n",
       " Row(host=u'www-d4.proxy.aol.com', host_count=2356),\n",
       " Row(host=u'www-b5.proxy.aol.com', host_count=2354),\n",
       " Row(host=u'www-b4.proxy.aol.com', host_count=2297),\n",
       " Row(host=u'www-d3.proxy.aol.com', host_count=2284),\n",
       " Row(host=u'www-a2.proxy.aol.com', host_count=2238),\n",
       " Row(host=u'www-c4.proxy.aol.com', host_count=2207),\n",
       " Row(host=u'www-c5.proxy.aol.com', host_count=2198),\n",
       " Row(host=u'www-c6.proxy.aol.com', host_count=2181)]"
      ]
     },
     "execution_count": 33,
     "metadata": {},
     "output_type": "execute_result"
    }
   ],
   "source": [
    "hostCountDFMoreThan10.sort('host_count', ascending=False).take(20)"
   ]
  },
  {
   "cell_type": "markdown",
   "metadata": {},
   "source": [
    "### Visualizing Endpoints"
   ]
  },
  {
   "cell_type": "code",
   "execution_count": 34,
   "metadata": {
    "collapsed": false
   },
   "outputs": [
    {
     "data": {
      "text/plain": [
       "DataFrame[endpoint: string, count: bigint]"
      ]
     },
     "execution_count": 34,
     "metadata": {},
     "output_type": "execute_result"
    }
   ],
   "source": [
    "endPointsCountDF = accessLogsDF.groupBy('endpoint').count()\n",
    "endPointsCountDF"
   ]
  },
  {
   "cell_type": "code",
   "execution_count": 35,
   "metadata": {
    "collapsed": false
   },
   "outputs": [
    {
     "data": {
      "text/plain": [
       "['endpoint', 'endpoint_count']"
      ]
     },
     "execution_count": 35,
     "metadata": {},
     "output_type": "execute_result"
    }
   ],
   "source": [
    "endPointsCountDF = endPointsCountDF.withColumnRenamed('count','endpoint_count')\n",
    "endPointsCountDF.columns"
   ]
  },
  {
   "cell_type": "code",
   "execution_count": 39,
   "metadata": {
    "collapsed": false
   },
   "outputs": [
    {
     "data": {
      "text/html": [
       "<div>\n",
       "<table border=\"1\" class=\"dataframe\">\n",
       "  <thead>\n",
       "    <tr style=\"text-align: right;\">\n",
       "      <th></th>\n",
       "      <th>endpoint</th>\n",
       "      <th>endpoint_count</th>\n",
       "    </tr>\n",
       "  </thead>\n",
       "  <tbody>\n",
       "    <tr>\n",
       "      <th>0</th>\n",
       "      <td>/history/apollo/apollo-11/images/</td>\n",
       "      <td>304</td>\n",
       "    </tr>\n",
       "    <tr>\n",
       "      <th>1</th>\n",
       "      <td>/shuttle/technology/sts-newsref/sts-apu.html</td>\n",
       "      <td>235</td>\n",
       "    </tr>\n",
       "    <tr>\n",
       "      <th>2</th>\n",
       "      <td>/shuttle/missions/sts-71/images/KSC-95EC-0950.jpg</td>\n",
       "      <td>115</td>\n",
       "    </tr>\n",
       "    <tr>\n",
       "      <th>3</th>\n",
       "      <td>/htbin/wais.pl?APU+AND+ANOMALY</td>\n",
       "      <td>2</td>\n",
       "    </tr>\n",
       "    <tr>\n",
       "      <th>4</th>\n",
       "      <td>/shuttle/countdown/lps/images/BKUP-INT-large.gif</td>\n",
       "      <td>6</td>\n",
       "    </tr>\n",
       "  </tbody>\n",
       "</table>\n",
       "</div>"
      ],
      "text/plain": [
       "                                            endpoint  endpoint_count\n",
       "0                  /history/apollo/apollo-11/images/             304\n",
       "1       /shuttle/technology/sts-newsref/sts-apu.html             235\n",
       "2  /shuttle/missions/sts-71/images/KSC-95EC-0950.jpg             115\n",
       "3                     /htbin/wais.pl?APU+AND+ANOMALY               2\n",
       "4   /shuttle/countdown/lps/images/BKUP-INT-large.gif               6"
      ]
     },
     "execution_count": 39,
     "metadata": {},
     "output_type": "execute_result"
    }
   ],
   "source": [
    "endPointsCountDFLocal = endPointsCountDF.toPandas()\n",
    "endPointsCountDFLocal.head()"
   ]
  },
  {
   "cell_type": "code",
   "execution_count": 40,
   "metadata": {
    "collapsed": false
   },
   "outputs": [
    {
     "data": {
      "image/png": "[encoded data removed]",
      "text/plain": [
       "<matplotlib.figure.Figure at 0x7f787a0571d0>"
      ]
     },
     "metadata": {},
     "output_type": "display_data"
    }
   ],
   "source": [
    "fig = plt.figure(figsize=(8,4.2), facecolor='white', edgecolor='white')\n",
    "plt.axis([0, len(endPointsCountDFLocal.endpoint.tolist()), 0, max(endPointsCountDFLocal.endpoint_count.tolist())])\n",
    "plt.grid(b=True, which='major', axis='y')\n",
    "plt.xlabel('Endpoints')\n",
    "plt.ylabel('Number of Hits')\n",
    "plt.plot(endPointsCountDFLocal.endpoint_count)\n",
    "pass"
   ]
  },
  {
   "cell_type": "markdown",
   "metadata": {},
   "source": [
    "### Top Endpoints"
   ]
  },
  {
   "cell_type": "code",
   "execution_count": 41,
   "metadata": {
    "collapsed": false
   },
   "outputs": [
    {
     "data": {
      "text/plain": [
       "[Row(endpoint=u'/images/NASA-logosmall.gif', endpoint_count=59737),\n",
       " Row(endpoint=u'/images/KSC-logosmall.gif', endpoint_count=50452),\n",
       " Row(endpoint=u'/images/MOSAIC-logosmall.gif', endpoint_count=43890),\n",
       " Row(endpoint=u'/images/USA-logosmall.gif', endpoint_count=43664),\n",
       " Row(endpoint=u'/images/WORLD-logosmall.gif', endpoint_count=43277),\n",
       " Row(endpoint=u'/images/ksclogo-medium.gif', endpoint_count=41336),\n",
       " Row(endpoint=u'/ksc.html', endpoint_count=28582),\n",
       " Row(endpoint=u'/history/apollo/images/apollo-logo1.gif', endpoint_count=26778),\n",
       " Row(endpoint=u'/images/launch-logo.gif', endpoint_count=24755),\n",
       " Row(endpoint=u'/', endpoint_count=20292)]"
      ]
     },
     "execution_count": 41,
     "metadata": {},
     "output_type": "execute_result"
    }
   ],
   "source": [
    "top10EndPoints = endPointsCountDF.sort('endpoint_count',ascending=False).take(10)\n",
    "top10EndPoints"
   ]
  },
  {
   "cell_type": "markdown",
   "metadata": {},
   "source": [
    "### Deeper Analysis of Web Server Logs"
   ]
  },
  {
   "cell_type": "markdown",
   "metadata": {},
   "source": [
    "#### Top 10 error end points"
   ]
  },
  {
   "cell_type": "code",
   "execution_count": 42,
   "metadata": {
    "collapsed": false
   },
   "outputs": [
    {
     "name": "stdout",
     "output_type": "stream",
     "text": [
      "102330\n"
     ]
    },
    {
     "data": {
      "text/plain": [
       "DataFrame[client_identd: string, content_size: bigint, date_time: timestamp, endpoint: string, host: string, method: string, protocol: string, response_code: bigint, user_id: string]"
      ]
     },
     "execution_count": 42,
     "metadata": {},
     "output_type": "execute_result"
    }
   ],
   "source": [
    "errorEndPointsDF = accessLogsDF.filter('response_code != 200')\n",
    "print errorEndPointsDF.count()\n",
    "errorEndPointsDF"
   ]
  },
  {
   "cell_type": "code",
   "execution_count": 43,
   "metadata": {
    "collapsed": false
   },
   "outputs": [
    {
     "data": {
      "text/plain": [
       "[Row(endpoint=u'/images/NASA-logosmall.gif', endpoint_count=8761),\n",
       " Row(endpoint=u'/images/KSC-logosmall.gif', endpoint_count=7236),\n",
       " Row(endpoint=u'/images/MOSAIC-logosmall.gif', endpoint_count=5197),\n",
       " Row(endpoint=u'/images/USA-logosmall.gif', endpoint_count=5157),\n",
       " Row(endpoint=u'/images/WORLD-logosmall.gif', endpoint_count=5020),\n",
       " Row(endpoint=u'/images/ksclogo-medium.gif', endpoint_count=4728),\n",
       " Row(endpoint=u'/history/apollo/images/apollo-logo1.gif', endpoint_count=2907),\n",
       " Row(endpoint=u'/images/launch-logo.gif', endpoint_count=2811),\n",
       " Row(endpoint=u'/', endpoint_count=2199),\n",
       " Row(endpoint=u'/images/ksclogosmall.gif', endpoint_count=1622)]"
      ]
     },
     "execution_count": 43,
     "metadata": {},
     "output_type": "execute_result"
    }
   ],
   "source": [
    "errorEndPointsCountDF = errorEndPointsDF.groupBy('endpoint').count().withColumnRenamed('count','endpoint_count')\n",
    "topTenErrURLs = errorEndPointsCountDF.sort('endpoint_count', ascending=False).take(10)\n",
    "topTenErrURLs"
   ]
  },
  {
   "cell_type": "markdown",
   "metadata": {},
   "source": [
    "#### Number of Unique hosts"
   ]
  },
  {
   "cell_type": "code",
   "execution_count": 44,
   "metadata": {
    "collapsed": false
   },
   "outputs": [
    {
     "data": {
      "text/plain": [
       "54507"
      ]
     },
     "execution_count": 44,
     "metadata": {},
     "output_type": "execute_result"
    }
   ],
   "source": [
    "accessLogsDF.select('host').distinct().count()"
   ]
  },
  {
   "cell_type": "markdown",
   "metadata": {},
   "source": [
    "#### Number of Unique Daily Hosts"
   ]
  },
  {
   "cell_type": "code",
   "execution_count": 45,
   "metadata": {
    "collapsed": false
   },
   "outputs": [
    {
     "data": {
      "text/plain": [
       "DataFrame[day: bigint, host: string]"
      ]
     },
     "execution_count": 45,
     "metadata": {},
     "output_type": "execute_result"
    }
   ],
   "source": [
    "dayHostDF = sqlContext.createDataFrame(accessLogsDF.map(lambda row: Row(day=row.date_time.day,host=row.host)))\n",
    "dayHostDF.cache()\n",
    "dayHostDF"
   ]
  },
  {
   "cell_type": "code",
   "execution_count": 46,
   "metadata": {
    "collapsed": false
   },
   "outputs": [
    {
     "data": {
      "text/plain": [
       "[Row(day=1, host=u'in24.inetnebr.com'),\n",
       " Row(day=1, host=u'uplherc.upl.com'),\n",
       " Row(day=1, host=u'uplherc.upl.com'),\n",
       " Row(day=1, host=u'uplherc.upl.com'),\n",
       " Row(day=1, host=u'uplherc.upl.com'),\n",
       " Row(day=1, host=u'ix-esc-ca2-07.ix.netcom.com'),\n",
       " Row(day=1, host=u'uplherc.upl.com'),\n",
       " Row(day=1, host=u'slppp6.intermind.net'),\n",
       " Row(day=1, host=u'piweba4y.prodigy.com'),\n",
       " Row(day=1, host=u'slppp6.intermind.net')]"
      ]
     },
     "execution_count": 46,
     "metadata": {},
     "output_type": "execute_result"
    }
   ],
   "source": [
    "dayHostDF.take(10)"
   ]
  },
  {
   "cell_type": "code",
   "execution_count": 49,
   "metadata": {
    "collapsed": false
   },
   "outputs": [
    {
     "data": {
      "text/plain": [
       "[Row(day=1, unique_host_count=2582),\n",
       " Row(day=3, unique_host_count=3222),\n",
       " Row(day=4, unique_host_count=4190),\n",
       " Row(day=5, unique_host_count=2502),\n",
       " Row(day=6, unique_host_count=2537),\n",
       " Row(day=7, unique_host_count=4106),\n",
       " Row(day=8, unique_host_count=4406),\n",
       " Row(day=9, unique_host_count=4317),\n",
       " Row(day=10, unique_host_count=4523),\n",
       " Row(day=11, unique_host_count=4346),\n",
       " Row(day=12, unique_host_count=2864),\n",
       " Row(day=13, unique_host_count=2650),\n",
       " Row(day=14, unique_host_count=4454),\n",
       " Row(day=15, unique_host_count=4214),\n",
       " Row(day=16, unique_host_count=4340),\n",
       " Row(day=17, unique_host_count=4385),\n",
       " Row(day=18, unique_host_count=4168),\n",
       " Row(day=19, unique_host_count=2550),\n",
       " Row(day=20, unique_host_count=2560),\n",
       " Row(day=21, unique_host_count=4134),\n",
       " Row(day=22, unique_host_count=4456)]"
      ]
     },
     "execution_count": 49,
     "metadata": {},
     "output_type": "execute_result"
    }
   ],
   "source": [
    "dayUniqueHostCountDF = (dayHostDF.distinct().groupBy('day').count().withColumnRenamed('count','unique_host_count')\n",
    "                 .sort('day'))\n",
    "dayUniqueHostCountDF.collect()"
   ]
  },
  {
   "cell_type": "markdown",
   "metadata": {},
   "source": [
    "### Average Number of Daily Requests by host"
   ]
  },
  {
   "cell_type": "code",
   "execution_count": 51,
   "metadata": {
    "collapsed": false
   },
   "outputs": [
    {
     "data": {
      "text/plain": [
       "[Row(day=1, requests_count=33996),\n",
       " Row(day=3, requests_count=41387),\n",
       " Row(day=4, requests_count=59554),\n",
       " Row(day=5, requests_count=31888),\n",
       " Row(day=6, requests_count=32416),\n",
       " Row(day=7, requests_count=57355),\n",
       " Row(day=8, requests_count=60142),\n",
       " Row(day=9, requests_count=60457),\n",
       " Row(day=10, requests_count=61245),\n",
       " Row(day=11, requests_count=61242),\n",
       " Row(day=12, requests_count=38070),\n",
       " Row(day=13, requests_count=36480),\n",
       " Row(day=14, requests_count=59873),\n",
       " Row(day=15, requests_count=58845),\n",
       " Row(day=16, requests_count=56651),\n",
       " Row(day=17, requests_count=58980),\n",
       " Row(day=18, requests_count=56244),\n",
       " Row(day=19, requests_count=32092),\n",
       " Row(day=20, requests_count=32963),\n",
       " Row(day=21, requests_count=55539),\n",
       " Row(day=22, requests_count=57758)]"
      ]
     },
     "execution_count": 51,
     "metadata": {},
     "output_type": "execute_result"
    }
   ],
   "source": [
    "dayRequestCountDF = dayHostDF.groupBy('day').count().withColumnRenamed('count','requests_count').sort('day')\n",
    "dayRequestCountDF.collect()"
   ]
  },
  {
   "cell_type": "code",
   "execution_count": 53,
   "metadata": {
    "collapsed": false
   },
   "outputs": [
    {
     "data": {
      "text/plain": [
       "[Row(day=1, requests_count=33996, unique_host_count=2582),\n",
       " Row(day=3, requests_count=41387, unique_host_count=3222),\n",
       " Row(day=4, requests_count=59554, unique_host_count=4190),\n",
       " Row(day=5, requests_count=31888, unique_host_count=2502),\n",
       " Row(day=6, requests_count=32416, unique_host_count=2537),\n",
       " Row(day=7, requests_count=57355, unique_host_count=4106),\n",
       " Row(day=8, requests_count=60142, unique_host_count=4406),\n",
       " Row(day=9, requests_count=60457, unique_host_count=4317),\n",
       " Row(day=10, requests_count=61245, unique_host_count=4523),\n",
       " Row(day=11, requests_count=61242, unique_host_count=4346),\n",
       " Row(day=12, requests_count=38070, unique_host_count=2864),\n",
       " Row(day=13, requests_count=36480, unique_host_count=2650),\n",
       " Row(day=14, requests_count=59873, unique_host_count=4454),\n",
       " Row(day=15, requests_count=58845, unique_host_count=4214),\n",
       " Row(day=16, requests_count=56651, unique_host_count=4340),\n",
       " Row(day=17, requests_count=58980, unique_host_count=4385),\n",
       " Row(day=18, requests_count=56244, unique_host_count=4168),\n",
       " Row(day=19, requests_count=32092, unique_host_count=2550),\n",
       " Row(day=20, requests_count=32963, unique_host_count=2560),\n",
       " Row(day=21, requests_count=55539, unique_host_count=4134),\n",
       " Row(day=22, requests_count=57758, unique_host_count=4456)]"
      ]
     },
     "execution_count": 53,
     "metadata": {},
     "output_type": "execute_result"
    }
   ],
   "source": [
    "dayHostsAndRequestsCountDF = dayRequestCountDF.join(dayUniqueHostCountDF, on='day', how ='inner')\n",
    "dayHostsAndRequestsCountDF.collect()"
   ]
  },
  {
   "cell_type": "code",
   "execution_count": 54,
   "metadata": {
    "collapsed": true
   },
   "outputs": [],
   "source": [
    "dayHostsAndRequestsCountDF.registerTempTable('dayHostsAndRequestsTable')"
   ]
  },
  {
   "cell_type": "code",
   "execution_count": 62,
   "metadata": {
    "collapsed": false
   },
   "outputs": [],
   "source": [
    "avgDailyRequestPerHost = sqlContext.sql(\"select day,requests_count/unique_host_count as avg_requests_per_host from dayHostsAndRequestsTable\")"
   ]
  },
  {
   "cell_type": "code",
   "execution_count": 63,
   "metadata": {
    "collapsed": false
   },
   "outputs": [
    {
     "data": {
      "text/plain": [
       "[Row(day=1, avg_requests_per_host=13.166537567776917),\n",
       " Row(day=3, avg_requests_per_host=12.845127250155183),\n",
       " Row(day=4, avg_requests_per_host=14.213365155131266),\n",
       " Row(day=5, avg_requests_per_host=12.745003996802557),\n",
       " Row(day=6, avg_requests_per_host=12.777296018919984),\n",
       " Row(day=7, avg_requests_per_host=13.968582562104238),\n",
       " Row(day=8, avg_requests_per_host=13.650022696323196),\n",
       " Row(day=9, avg_requests_per_host=14.00440120454019),\n",
       " Row(day=10, avg_requests_per_host=13.540791510059695),\n",
       " Row(day=11, avg_requests_per_host=14.091578462954441),\n",
       " Row(day=12, avg_requests_per_host=13.292597765363128),\n",
       " Row(day=13, avg_requests_per_host=13.766037735849057),\n",
       " Row(day=14, avg_requests_per_host=13.442523574315222),\n",
       " Row(day=15, avg_requests_per_host=13.964167062173706),\n",
       " Row(day=16, avg_requests_per_host=13.053225806451612),\n",
       " Row(day=17, avg_requests_per_host=13.450399087799315),\n",
       " Row(day=18, avg_requests_per_host=13.494241842610364),\n",
       " Row(day=19, avg_requests_per_host=12.585098039215687),\n",
       " Row(day=20, avg_requests_per_host=12.876171875),\n",
       " Row(day=21, avg_requests_per_host=13.434687953555878),\n",
       " Row(day=22, avg_requests_per_host=12.961849192100539)]"
      ]
     },
     "execution_count": 63,
     "metadata": {},
     "output_type": "execute_result"
    }
   ],
   "source": [
    "avgDailyRequestPerHost.collect()"
   ]
  }
 ],
 "metadata": {
  "kernelspec": {
   "display_name": "Python 2",
   "language": "python",
   "name": "python2"
  },
  "language_info": {
   "codemirror_mode": {
    "name": "ipython",
    "version": 2
   },
   "file_extension": ".py",
   "mimetype": "text/x-python",
   "name": "python",
   "nbconvert_exporter": "python",
   "pygments_lexer": "ipython2",
   "version": "2.7.11"
  }
 },
 "nbformat": 4,
 "nbformat_minor": 0
}
